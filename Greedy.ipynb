{
 "cells": [
  {
   "cell_type": "code",
   "execution_count": 14,
   "metadata": {},
   "outputs": [],
   "source": [
    "import logging\n",
    "from itertools import combinations\n",
    "import pandas as pd\n",
    "import numpy as np\n",
    "from geopy.distance import geodesic\n",
    "import networkx as nx\n",
    "from typing import List, Tuple\n",
    "from icecream import ic\n",
    "import random\n",
    "\n",
    "logging.basicConfig(level=logging.DEBUG)"
   ]
  },
  {
   "cell_type": "code",
   "execution_count": 15,
   "metadata": {},
   "outputs": [],
   "source": [
    "CITIES = pd.read_csv('./italy.csv', header=None, names=['name', 'lat', 'lon'])\n",
    "DIST_MATRIX = np.zeros((len(CITIES), len(CITIES)))\n",
    "for c1, c2 in combinations(CITIES.itertuples(), 2):\n",
    "    DIST_MATRIX[c1.Index, c2.Index] = DIST_MATRIX[c2.Index, c1.Index] = geodesic(\n",
    "        (c1.lat, c1.lon), (c2.lat, c2.lon)\n",
    "    ).km\n"
   ]
  },
  {
   "cell_type": "code",
   "execution_count": 16,
   "metadata": {},
   "outputs": [],
   "source": [
    "def path_cost(path: List[int]) -> float:\n",
    "\tcost = 0\n",
    "\tfor i in range(len(path) - 1):\n",
    "\t\tcost += DIST_MATRIX[path[i], path[i + 1]]\n",
    "\treturn cost\n"
   ]
  },
  {
   "cell_type": "code",
   "execution_count": 17,
   "metadata": {},
   "outputs": [],
   "source": [
    "def tweak(path: List[int]) -> List[int]:\n",
    "    \"\"\" Esegue l'ottimizzazione 2-opt sul percorso dato. \"\"\"\n",
    "    improved = True\n",
    "    while improved:\n",
    "        improved = False\n",
    "        for i in range(1, len(path) - 2):\n",
    "            for j in range(i + 1, len(path)):\n",
    "                if j - i == 1:  # Evita di invertire due punti consecutivi\n",
    "                    continue\n",
    "                new_path = path[:]\n",
    "                new_path[i:j] = reversed(path[i:j])  # Inverti la sottosequenza\n",
    "                if path_cost(new_path) < path_cost(path):\n",
    "                    path = new_path\n",
    "                    improved = True\n",
    "    return path\n",
    "# tweak with randomness\n",
    "MAX_ITER = 10000\n",
    "def tweak2(path: List[int])-> List[int]:\n",
    "    \n",
    "    for _ in range(MAX_ITER):\n",
    "    \n",
    "        #choose two random point to reverse (from 1 to n-2)\n",
    "        #i > j\n",
    "        i, j = random.sample(range(1, len(path)-1), 2)\n",
    "        new_path = path[:]\n",
    "        #reverse the subsequence\n",
    "        new_path[i:j] = reversed(path[i:j])\n",
    "        if path_cost(new_path) < path_cost(path):\n",
    "            path = new_path\n",
    "                \n",
    "                        \n",
    "    return path\n",
    "\n",
    "\t"
   ]
  },
  {
   "cell_type": "markdown",
   "metadata": {},
   "source": [
    "# Knock Knock Neighbor Algorithm (KKN)"
   ]
  },
  {
   "cell_type": "code",
   "execution_count": 18,
   "metadata": {},
   "outputs": [],
   "source": [
    "\n",
    "def KKN(start_city: str) -> Tuple[List[int], float]:\n",
    "    start_city_index = CITIES[CITIES['name'] == start_city].index[0]\n",
    "    path = [start_city_index]\n",
    "    visited = set(path)\n",
    "    current_city = start_city_index\n",
    "\n",
    "    while len(visited) < len(CITIES):\n",
    "        nearest_cities = []\n",
    "        nearest_distance = float('inf')\n",
    "\n",
    "        # Trova le città più vicine\n",
    "        for city_index in range(len(CITIES)):\n",
    "            if city_index not in visited:\n",
    "                distance = DIST_MATRIX[current_city, city_index]\n",
    "                if distance < nearest_distance:\n",
    "                    nearest_distance = distance\n",
    "                    nearest_city = city_index\n",
    "\n",
    "        path.append(nearest_city)\n",
    "        visited.add(nearest_city)\n",
    "        current_city = nearest_city\n",
    "\n",
    "    path.append(start_city_index)  # ritorna alla partenza\n",
    "\n",
    "    # Ottimizzazione locale: 2-opt\n",
    "    path = tweak(path)\n",
    "    \n",
    "\n",
    "    cost = path_cost(path)\n",
    "    return path, cost\n",
    "\n"
   ]
  },
  {
   "cell_type": "code",
   "execution_count": 19,
   "metadata": {},
   "outputs": [
    {
     "name": "stdout",
     "output_type": "stream",
     "text": [
      " Miglior percorso trovato: ['Syracuse', 'Catania', 'Palermo', 'Cagliari', 'Sassari', 'Latina', 'Rome', 'Terni', 'Perugia', 'Florence', 'Prato', 'Leghorn', 'Genoa', 'Turin', 'Novara', 'Milan', 'Monza', 'Bergamo', 'Trento', 'Bolzano', 'Trieste', 'Venice', 'Padua', 'Vicenza', 'Verona', 'Brescia', 'Piacenza', 'Parma', \"Reggio nell'Emilia\", 'Modena', 'Bologna', 'Ferrara', 'Ravenna', 'Forlì', 'Rimini', 'Ancona', 'Pescara', 'Foggia', 'Andria', 'Bari', 'Taranto', 'Salerno', 'Giugliano in Campania', 'Naples', 'Messina', 'Reggio di Calabria', 'Syracuse']\n",
      " Costo del miglior percorso: 4379.343649440914 km\n"
     ]
    }
   ],
   "source": [
    "start_city = \"Syracuse\"  # Cambia con la città desiderata\n",
    "(p, c) = KKN(start_city)\n",
    "print(\" Miglior percorso trovato:\", [CITIES['name'][i] for i in p])\n",
    "print(\" Costo del miglior percorso:\", c, \"km\")\n"
   ]
  }
 ],
 "metadata": {
  "kernelspec": {
   "display_name": "venv",
   "language": "python",
   "name": "python3"
  },
  "language_info": {
   "codemirror_mode": {
    "name": "ipython",
    "version": 3
   },
   "file_extension": ".py",
   "mimetype": "text/x-python",
   "name": "python",
   "nbconvert_exporter": "python",
   "pygments_lexer": "ipython3",
   "version": "3.12.0"
  }
 },
 "nbformat": 4,
 "nbformat_minor": 2
}
