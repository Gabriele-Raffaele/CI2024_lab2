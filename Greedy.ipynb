{
 "cells": [
  {
   "cell_type": "code",
   "execution_count": 2,
   "metadata": {},
   "outputs": [],
   "source": [
    "import logging\n",
    "from itertools import combinations\n",
    "import pandas as pd\n",
    "import numpy as np\n",
    "from geopy.distance import geodesic\n",
    "import networkx as nx\n",
    "from typing import List, Tuple, Dict\n",
    "from icecream import ic\n",
    "import random\n",
    "\n",
    "logging.basicConfig(level=logging.DEBUG)"
   ]
  },
  {
   "cell_type": "code",
   "execution_count": null,
   "metadata": {},
   "outputs": [],
   "source": [
    "'''CITIES = pd.read_csv('./italy.csv', header=None, names=['name', 'lat', 'lon'])\n",
    "DIST_MATRIX = np.zeros((len(CITIES), len(CITIES)))\n",
    "for c1, c2 in combinations(CITIES.itertuples(), 2):\n",
    "    DIST_MATRIX[c1.Index, c2.Index] = DIST_MATRIX[c2.Index, c1.Index] = geodesic(\n",
    "        (c1.lat, c1.lon), (c2.lat, c2.lon)\n",
    "    ).km'''\n"
   ]
  },
  {
   "cell_type": "code",
   "execution_count": 3,
   "metadata": {},
   "outputs": [],
   "source": [
    "def load_multiple_countries(file_paths: Dict[str, str]) -> Dict[str, Tuple[pd.DataFrame, np.ndarray]]:\n",
    "    data = {}\n",
    "    for country, path in file_paths.items():\n",
    "        cities = pd.read_csv(path, header=None, names=['name', 'lat', 'lon'])\n",
    "        dist_matrix = np.zeros((len(cities), len(cities)))\n",
    "        for c1, c2 in combinations(cities.itertuples(), 2):\n",
    "            dist_matrix[c1.Index, c2.Index] = dist_matrix[c2.Index, c1.Index] = geodesic(\n",
    "                (c1.lat, c1.lon), (c2.lat, c2.lon)\n",
    "            ).km\n",
    "        data[country] = (cities, dist_matrix)\n",
    "    return data"
   ]
  },
  {
   "cell_type": "code",
   "execution_count": 4,
   "metadata": {},
   "outputs": [],
   "source": [
    "file_paths = {\n",
    "    'Italy': './italy.csv',\n",
    "    'Russia': './russia.csv'\n",
    "    \n",
    "}\n",
    "data = load_multiple_countries(file_paths)"
   ]
  },
  {
   "cell_type": "code",
   "execution_count": 5,
   "metadata": {},
   "outputs": [],
   "source": [
    "# Function to calculate the path cost (total length)\n",
    "def path_cost(country_name: str, path: List[int], data: Dict[str, Tuple[pd.DataFrame, np.ndarray]]) -> float:\n",
    "    cities, dist_matrix = data[country_name]\n",
    "    num_cities = len(cities)\n",
    "    return sum(dist_matrix[path[i], path[(i + 1) % num_cities]] for i in range(num_cities))"
   ]
  },
  {
   "cell_type": "code",
   "execution_count": 6,
   "metadata": {},
   "outputs": [],
   "source": [
    "def tweak(country_name: str, path: List[int], data: Dict[str, Tuple[pd.DataFrame, np.ndarray]]) -> List[int]:\n",
    "    \"\"\" Performs 2-opt optimization on the given path. \"\"\"\n",
    "    improved = True\n",
    "    while improved:\n",
    "        improved = False\n",
    "        for i in range(1, len(path) - 2):\n",
    "            for j in range(i + 1, len(path)):\n",
    "                if j - i == 1: # Avoid reversing two consecutive points\n",
    "                    continue\n",
    "                new_path = path[:]\n",
    "                new_path[i:j] = reversed(path[i:j])  # Reverse the subsequence\n",
    "                if path_cost(country_name, new_path, data) < path_cost(country_name, path, data):\n",
    "                    path = new_path\n",
    "                    improved = True\n",
    "    return path\n",
    "\n",
    "\n",
    "\t"
   ]
  },
  {
   "cell_type": "markdown",
   "metadata": {},
   "source": [
    "# Knock Knock Neighbor Algorithm (KKN)"
   ]
  },
  {
   "cell_type": "code",
   "execution_count": 12,
   "metadata": {},
   "outputs": [],
   "source": [
    "\n",
    "def KKN(country_name: str, start_city: str, data: Dict[str, Tuple[pd.DataFrame, np.ndarray]]) -> List[int]:\n",
    "    cities, dist_matrix = data[country_name]\n",
    "    start_city_index = cities[cities['name'] == start_city].index[0]\n",
    "    path = [start_city_index]\n",
    "    visited = set(path)\n",
    "    current_city = start_city_index\n",
    "\n",
    "    while len(visited) < len(cities):\n",
    "        nearest_distance = float('inf')\n",
    "\n",
    "        # Find nearest city\n",
    "        for city_index in range(len(cities)):\n",
    "            if city_index not in visited:\n",
    "                distance = dist_matrix[current_city, city_index]\n",
    "                if distance < nearest_distance:\n",
    "                    nearest_distance = distance\n",
    "                    nearest_city = city_index\n",
    "\n",
    "        path.append(nearest_city)\n",
    "        visited.add(nearest_city)\n",
    "        current_city = nearest_city\n",
    "\n",
    "    path.append(start_city_index)  # Return to start city\n",
    "\n",
    "    # Optimize path with 2-opt\n",
    "    path = tweak( country_name,path, data)\n",
    "    \n",
    "\n",
    "    cost = path_cost(country_name, path, data)\n",
    "    return path, cost\n",
    "\n"
   ]
  },
  {
   "cell_type": "code",
   "execution_count": 21,
   "metadata": {},
   "outputs": [
    {
     "name": "stdout",
     "output_type": "stream",
     "text": [
      "Italy: 4309.30 km\n",
      " Best path : ['Milan', 'Monza', 'Bergamo', 'Brescia', 'Piacenza', 'Parma', \"Reggio nell'Emilia\", 'Modena', 'Bologna', 'Ferrara', 'Venice', 'Padua', 'Vicenza', 'Verona', 'Trento', 'Bolzano', 'Trieste', 'Ancona', 'Pescara', 'Giugliano in Campania', 'Naples', 'Salerno', 'Foggia', 'Andria', 'Bari', 'Taranto', 'Messina', 'Reggio di Calabria', 'Syracuse', 'Catania', 'Palermo', 'Cagliari', 'Sassari', 'Latina', 'Rome', 'Terni', 'Perugia', 'Rimini', 'Ravenna', 'Forlì', 'Florence', 'Prato', 'Leghorn', 'Genoa', 'Turin', 'Novara', 'Milan']\n",
      "Russia: 34865.02 km\n",
      " Best path : ['Voronezh', 'Staryy Oskol', 'Belgorod', 'Taganrog', 'Krasnodar', 'Novorossiysk', 'Sochi', 'Maykop', 'Armavir', 'Stavropol', 'Nevinnomyssk', 'Cherkessk', 'Kislovodsk', 'Pyatigorsk', 'Nalchik', 'Vladikavkaz', 'Nazran', 'Groznyy', 'Khasavyurt', 'Makhachkala', 'Kaspiysk', 'Derbent', 'Astrakhan', 'Elista', 'Bataysk', 'Rostov‐na‐Donu', 'Novocherkassk', 'Novoshakhtinsk', 'Shakhty', 'Volgodonsk', 'Volgograd', 'Volzhskiy', 'Kamyshin', 'Engels', 'Saratov', 'Penza', 'Balakovo', 'Syzran', 'Novokuybyshevsk', 'Samara', 'Tolyatti', 'Ulyanovsk', 'Dimitrovgrad', 'Almetyevsk', 'Naberezhnye Chelny', 'Nizhnekamsk', 'Kazan', 'Yoshkar‐Ola', 'Novocheboksarsk', 'Cheboksary', 'Saransk', 'Arzamas', 'Nizhny Novgorod', 'Dzerzhinsk', 'Murom', 'Vladimir', 'Kovrov', 'Ivanovo', 'Kostroma', 'Yaroslavl', 'Rybinsk', 'Tver', 'Zelenograd', 'Khimki', 'Sergiyev Posad', 'Orekhovo‐Zuevo', 'Noginsk', 'Elektrostal', 'Zhukovskiy', 'Lyubertsy', 'Zheleznodorozhnyy', 'Balashikha', 'Shchyolkovo', 'Korolyov', 'Mytishchi', 'Moscow', 'Odintsovo', 'Podolsk', 'Serpukhov', 'Kolomna', 'Ryazan', 'Novomoskovsk', 'Tula', 'Kaluga', 'Obninsk', 'Smolensk', 'Velikie Luki', 'Velikiy Novgorod', 'Cherepovets', 'Vologda', 'Kirov', 'Izhevsk', 'Neftekamsk', 'Oktyabrskiy', 'Ufa', 'Sterlitamak', 'Salavat', 'Orenberg', 'Orenburg', 'Novotroitsk', 'Orsk', 'Magnitogorsk', 'Zlatoust', 'Miass', 'Chelyabinsk', 'Kopeysk', 'Kurgan', 'Omsk', 'Seversk', 'Tomsk', 'Kemerovo', 'Leninsk‐Kuznetskiy', 'Novosibirsk', 'Barnaul', 'Rubtsovsk', 'Biysk', 'Prokopyevsk', 'Novokuznetsk', 'Achinsk', 'Krasnoyarsk', 'Abakan', 'Kyzyl', 'Bratsk', 'Angarsk', 'Irkutsk', 'Ulan‐Ude', 'Chita', 'Blagoveshchensk', 'Vladivostok', 'Nakhodka', 'Artyom', 'Ussuriysk', 'Khabarovsk', 'Komsomolsk‐na‐Amure', 'Yuzhno‐Sakhalinsk', 'Petropavlovsk‐Kamchatskiy', 'Magadan', 'Yakutsk', 'Norilsk', 'Novyy Urengoy', 'Noyabrsk', 'Nizhnevartovsk', 'Surgut', 'Nefteyugansk', 'Tobolsk', 'Tyumen', 'Kamensk‐Uralskiy', 'Yekaterinburg', 'Pervouralsk', 'Nizhniy Tagil', 'Perm', 'Berezniki', 'Syktyvkar', 'Arkhangelsk', 'Severodvinsk', 'Murmansk', 'Petrozavodsk', 'Saint Petersburg', 'Kolpino', 'Pskov', 'Kaliningrad', 'Bryansk', 'Oryol', 'Kursk', 'Yelets', 'Lipetsk', 'Tambov', 'Voronezh']\n"
     ]
    }
   ],
   "source": [
    "for country_name, (cities, dist_matrix) in data.items():\n",
    "    start_city = cities['name'].iloc[random.randint(0, len(cities) - 1)]\n",
    "    path, cost = KKN(country_name, start_city, data)\n",
    "    #print the path (names of cities) and the cost of the path\n",
    "    print(f'{country_name}: {path_cost(country_name, path, data):.2f} km')\n",
    "    print(\" Best path :\", [cities['name'][i] for i in path])\n"
   ]
  }
 ],
 "metadata": {
  "kernelspec": {
   "display_name": "venv",
   "language": "python",
   "name": "python3"
  },
  "language_info": {
   "codemirror_mode": {
    "name": "ipython",
    "version": 3
   },
   "file_extension": ".py",
   "mimetype": "text/x-python",
   "name": "python",
   "nbconvert_exporter": "python",
   "pygments_lexer": "ipython3",
   "version": "3.12.0"
  }
 },
 "nbformat": 4,
 "nbformat_minor": 2
}
