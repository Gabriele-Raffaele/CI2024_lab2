{
 "cells": [
  {
   "cell_type": "code",
   "execution_count": 7,
   "metadata": {},
   "outputs": [],
   "source": [
    "import numpy as np\n",
    "import pandas as pd\n",
    "import random\n",
    "from typing import List\n",
    "from itertools import combinations\n",
    "from geopy.distance import geodesic"
   ]
  },
  {
   "cell_type": "markdown",
   "metadata": {},
   "source": [
    "## Inizialization"
   ]
  },
  {
   "cell_type": "code",
   "execution_count": 32,
   "metadata": {},
   "outputs": [],
   "source": [
    "POPULATION_SIZE = 100              # Dimensione della popolazione\n",
    "OFFSPRING_SIZE = 50                # Numero di discendenti per generazione\n",
    "MAX_GENERATIONS = 1000             # Numero massimo di generazioni\n",
    "MUTATION_RATE = 0.3                # Probabilità di mutazione\n",
    "\n",
    "# Caricamento delle città e costruzione della matrice delle distanze\n",
    "CITIES = pd.read_csv('./italy.csv', header=None, names=['name', 'lat', 'lon'])\n",
    "DIST_MATRIX = np.zeros((len(CITIES), len(CITIES)))\n",
    "for c1, c2 in combinations(CITIES.itertuples(), 2):\n",
    "    DIST_MATRIX[c1.Index, c2.Index] = DIST_MATRIX[c2.Index, c1.Index] = geodesic(\n",
    "        (c1.lat, c1.lon), (c2.lat, c2.lon)\n",
    "    ).km\n",
    "\n",
    "# Parametri per l'algoritmo genetico\n",
    "NUM_CITIES = len(CITIES)           # Numero di città\n",
    "\n",
    "\n",
    "def initialize_population(size: int, start_city: str ) -> List[List[int]]:\n",
    "    # Trova l'indice della città di partenza\n",
    "    start_city_index = CITIES[CITIES['name'] == start_city].index[0]\n",
    "    \n",
    "    # Lista degli indici delle città escludendo quella di partenza\n",
    "    other_cities = [i for i in range(NUM_CITIES) if i != start_city_index]\n",
    "    \n",
    "    # Genera la popolazione fissando la città di partenza e arrivo\n",
    "    population = []\n",
    "    for _ in range(size):\n",
    "        individual = [start_city_index]  # Messina come primo elemento\n",
    "        individual += list(np.random.permutation(other_cities))  # Permutazione delle altre città\n",
    "        individual.append(start_city_index)  # Messina come ultimo elemento\n",
    "        population.append(individual)\n",
    "    \n",
    "    return population\n"
   ]
  },
  {
   "cell_type": "markdown",
   "metadata": {},
   "source": [
    "## Fitness"
   ]
  },
  {
   "cell_type": "code",
   "execution_count": 34,
   "metadata": {},
   "outputs": [],
   "source": [
    "# Funzione per calcolare il costo del percorso (lunghezza totale)\n",
    "def path_cost(path: List[int]) -> float:\n",
    "    return sum(DIST_MATRIX[path[i], path[(i + 1) % NUM_CITIES]] for i in range(NUM_CITIES))\n",
    "\n",
    "\n",
    "# Funzione di fitness: inverso della lunghezza del percorso\n",
    "def fitness(individual: List[int]) -> float:\n",
    "    return  -path_cost(individual)"
   ]
  },
  {
   "cell_type": "markdown",
   "metadata": {},
   "source": [
    "## Parent selection function"
   ]
  },
  {
   "cell_type": "code",
   "execution_count": 35,
   "metadata": {},
   "outputs": [],
   "source": [
    "# Selezione dei genitori tramite torneo\n",
    "def parent_selection(population: List[List[int]]) -> List[int]:\n",
    "    tournament = random.sample(population, 5)\n",
    "    tournament.sort(key=fitness, reverse=True)\n",
    "    return tournament[0]"
   ]
  },
  {
   "cell_type": "markdown",
   "metadata": {},
   "source": [
    "## Crossover functions"
   ]
  },
  {
   "cell_type": "code",
   "execution_count": 37,
   "metadata": {},
   "outputs": [],
   "source": [
    "def inver_over_crossover(parent1: List[int], parent2: List[int]) -> List[int]:\n",
    "    # Copia il percorso del primo genitore per iniziare a creare il figlio\n",
    "    child = parent1[:]\n",
    "    \n",
    "    # Imposta la città di partenza e arrivo fissa (ad esempio Messina)\n",
    "    start_city = child[0]\n",
    "    \n",
    "    # Seleziona una città casuale (gene) all'interno del percorso, esclusa la partenza e arrivo\n",
    "    gene_index = random.randint(1, len(parent1) - 2)\n",
    "    gene = child[gene_index]\n",
    "    \n",
    "  # Trova la posizione della città successiva nel secondo genitore\n",
    "    next_index = (parent2.index(gene) + 1) % (len(parent2) - 1)  # Escludendo l'ultima città\n",
    "    next_city = parent2[next_index]\n",
    "    # Assicuriamoci che next_city non sia la città di arrivo e sia presente nel figlio\n",
    "    if next_city == child[-1] or next_city not in child:\n",
    "        # Se next_city è la città di arrivo, trova un'altra città da utilizzare\n",
    "        for city in parent2:\n",
    "            if city != start_city and city not in child:\n",
    "                next_city = city\n",
    "                break\n",
    "    \n",
    " # Se il gene selezionato nel primo genitore non è collegato al prossimo nel secondo genitore, inverte\n",
    "    if child[gene_index + 1] != next_city:\n",
    "        # Trova l'indice della città successiva nel primo genitore\n",
    "        next_index = child.index(next_city)\n",
    "\n",
    "        # Esegue l'inversione della sottosequenza tra gene_index e next_index\n",
    "        if gene_index < next_index:\n",
    "            child[gene_index:next_index + 1] = reversed(child[gene_index:next_index + 1])\n",
    "        else:\n",
    "            child[next_index:gene_index + 1] = reversed(child[next_index:gene_index + 1])\n",
    "    \n",
    "    # Assicura che la città di partenza e di arrivo restino invariate\n",
    "    child[0] = start_city\n",
    "    child[-1] = start_city\n",
    "    \n",
    "    return child\n",
    "\n",
    "\n",
    "# Operatore di crossover: Ordinal Crossover (OX)\n",
    "def crossover(parent1: List[int], parent2: List[int]) -> List[int]:\n",
    "    # Imposta il primo e l'ultimo elemento fisso (città di partenza/arrivo)\n",
    "    start, end = sorted(random.sample(range(1, NUM_CITIES - 1), 2))\n",
    "    child = [parent1[0]] + [None] * (NUM_CITIES - 2) + [parent1[0]]\n",
    "    \n",
    "    # Copia il segmento selezionato dal primo genitore\n",
    "    child[start:end] = parent1[start:end]\n",
    "    \n",
    "    # Completa il percorso con città dal secondo genitore, evitando duplicati\n",
    "    position = end\n",
    "    for city in parent2:\n",
    "        if city not in child:\n",
    "            if position >= NUM_CITIES - 1:\n",
    "                position = 1  # Riparte dal secondo elemento per evitare il primo e l'ultimo\n",
    "            child[position] = city\n",
    "            position += 1\n",
    "\n",
    "    return child\n",
    "\n"
   ]
  },
  {
   "cell_type": "markdown",
   "metadata": {},
   "source": [
    "## Mutation functions"
   ]
  },
  {
   "cell_type": "code",
   "execution_count": 40,
   "metadata": {},
   "outputs": [],
   "source": [
    "# Operatore di mutazione: Scambia due città casualmente\n",
    "def mutate(individual: List[int]) -> List[int]:\n",
    "    if random.random() < MUTATION_RATE:\n",
    "        # Seleziona due città da scambiare, escludendo la città di partenza e arrivo\n",
    "        i, j = random.sample(range(1, NUM_CITIES - 1), 2)\n",
    "        individual[i], individual[j] = individual[j], individual[i]\n",
    "    return individual\n",
    "\n",
    "\n",
    "def inversion_mutation(individual: List[int]) -> List[int]:\n",
    "    # Assicura che la città di partenza e arrivo sia fissa\n",
    "    if random.random() < MUTATION_RATE:\n",
    "        start_city = individual[0]\n",
    "        end_city = individual[-1]\n",
    "        \n",
    "        # Seleziona due indici casuali tra le città interne (1 a len(individual) - 2)\n",
    "        idx1, idx2 = sorted(random.sample(range(1, len(individual) - 1), 2))\n",
    "        \n",
    "        # Inverte la sequenza tra idx1 e idx2\n",
    "        individual[idx1:idx2 + 1] = reversed(individual[idx1:idx2 + 1])\n",
    "        \n",
    "        # Ripristina la città di partenza e arrivo\n",
    "        individual[0] = start_city\n",
    "        individual[-1] = end_city\n",
    "    \n",
    "    return individual\n"
   ]
  },
  {
   "cell_type": "code",
   "execution_count": 41,
   "metadata": {},
   "outputs": [
    {
     "name": "stdout",
     "output_type": "stream",
     "text": [
      "Generation 0, Best Path Cost: 15011.94 km\n",
      "Generation 100, Best Path Cost: 5880.64 km\n",
      "Generation 200, Best Path Cost: 4641.12 km\n",
      "Generation 300, Best Path Cost: 4309.96 km\n",
      "Generation 400, Best Path Cost: 4267.50 km\n",
      "Generation 500, Best Path Cost: 4175.99 km\n",
      "Generation 600, Best Path Cost: 4175.99 km\n",
      "Generation 700, Best Path Cost: 4175.99 km\n",
      "Generation 800, Best Path Cost: 4175.99 km\n",
      "Generation 900, Best Path Cost: 4175.99 km\n",
      "Miglior percorso trovato: ['Syracuse', 'Reggio di Calabria', 'Messina', 'Taranto', 'Bari', 'Andria', 'Foggia', 'Salerno', 'Naples', 'Giugliano in Campania', 'Pescara', 'Latina', 'Rome', 'Terni', 'Perugia', 'Ancona', 'Rimini', 'Forlì', 'Ravenna', 'Trieste', 'Venice', 'Padua', 'Vicenza', 'Bolzano', 'Trento', 'Verona', 'Brescia', 'Bergamo', 'Monza', 'Milan', 'Novara', 'Turin', 'Genoa', 'Piacenza', 'Parma', \"Reggio nell'Emilia\", 'Modena', 'Ferrara', 'Bologna', 'Prato', 'Florence', 'Leghorn', 'Sassari', 'Cagliari', 'Palermo', 'Catania', 'Syracuse']\n",
      "Costo del miglior percorso: 4175.990432534033 km\n"
     ]
    }
   ],
   "source": [
    "\n",
    "# Algoritmo genetico principale\n",
    "population = initialize_population(POPULATION_SIZE, start_city=\"Syracuse\")\n",
    "for generation in range(MAX_GENERATIONS):\n",
    "    # Creazione della prole\n",
    "    offspring = []\n",
    "    for _ in range(OFFSPRING_SIZE):\n",
    "        parent1 = parent_selection(population)\n",
    "        parent2 = parent_selection(population)\n",
    "        child = inver_over_crossover(parent1, parent2)\n",
    "        child = inversion_mutation(child)\n",
    "        offspring.append(child)\n",
    "    \n",
    "    # Valutazione fitness della prole\n",
    "    population.extend(offspring)\n",
    "    population.sort(key=fitness, reverse=True)\n",
    "    population = population[:POPULATION_SIZE]  # Mantiene i migliori\n",
    "\n",
    "    # Stampa ogni 100 generazioni\n",
    "    if generation % 100 == 0:\n",
    "        print(f\"Generation {generation}, Best Path Cost: {path_cost(population[0]):.2f} km\")\n",
    "\n",
    "# Risultato finale\n",
    "best_individual = population[0]\n",
    "print(\"Miglior percorso trovato:\", [CITIES['name'][i] for i in best_individual])\n",
    "print(\"Costo del miglior percorso:\", path_cost(best_individual), \"km\")\n",
    "\n"
   ]
  }
 ],
 "metadata": {
  "kernelspec": {
   "display_name": "venv",
   "language": "python",
   "name": "python3"
  },
  "language_info": {
   "codemirror_mode": {
    "name": "ipython",
    "version": 3
   },
   "file_extension": ".py",
   "mimetype": "text/x-python",
   "name": "python",
   "nbconvert_exporter": "python",
   "pygments_lexer": "ipython3",
   "version": "3.12.0"
  }
 },
 "nbformat": 4,
 "nbformat_minor": 2
}
